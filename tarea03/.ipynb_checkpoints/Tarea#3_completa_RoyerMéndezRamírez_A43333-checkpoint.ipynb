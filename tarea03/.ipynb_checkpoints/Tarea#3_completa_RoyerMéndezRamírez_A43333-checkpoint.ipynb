{
 "cells": [
  {
   "cell_type": "markdown",
   "id": "3f0aafe1",
   "metadata": {},
   "source": [
    "# Estructuras de datos Abstractas y Algoritmos\\\n",
    "# Tarea# 3\n",
    "# Royer Méndez Ramírez - A43333"
   ]
  },
  {
   "cell_type": "markdown",
   "id": "1cfc0806",
   "metadata": {},
   "source": [
    "# Ejercicio #1\n",
    "\n",
    "## Parte1.a"
   ]
  },
  {
   "cell_type": "markdown",
   "id": "e0be5c03",
   "metadata": {},
   "source": [
    "Dado lista1 = [13,2,104,36,9,120,29,500,89,41,65,7]\\\n",
    "diccionario = {0:20,1:320,2:90,3:147,4:122,5:717,6:2,7:77,8:112,9:14,10:17,11:24}"
   ]
  },
  {
   "cell_type": "code",
   "execution_count": 10,
   "id": "b0111cab",
   "metadata": {},
   "outputs": [
    {
     "name": "stdout",
     "output_type": "stream",
     "text": [
      "[2, 2, 7, 9, 13, 14, 17, 20, 24, 29, 36, 41, 65, 77, 89, 90, 104, 112, 120, 122, 147, 320, 500, 717]\n"
     ]
    }
   ],
   "source": [
    "# TAREA#3 - ROYER MÉNDEZ RAMÍREZ\n",
    "# EJERCICIO#1. PARTE A\n",
    "\n",
    "#Se crea la función\n",
    "def calculos(lista1, diccionario):\n",
    "\n",
    "\n",
    "    lista_de_salida = [] # Se crea una lista vacia\n",
    "    \n",
    "    for elemento in (lista1):\n",
    "        lista_de_salida.append(elemento) #Se agregan los elementos de la lista a la lista vacía\n",
    "        \n",
    "    for value in diccionario.values():\n",
    "            lista_de_salida.append(value) #Se agregan los elementos de los valores del diccionario a la lista vacía\n",
    "    \n",
    "    lista_de_salida.sort() #Se ordena en orden ascendente de sus elementos\n",
    "    \n",
    "    return lista_de_salida\n",
    "\n",
    "\n",
    "#El llamado a la función\n",
    "\n",
    "lista1 = [13, 2, 104, 36, 9, 120, 29, 500, 89, 41, 65, 7]\n",
    "diccionario = {0:20, 1:320, 2:90, 3:147, 4:122, 5:717, 6:2, 7:77, 8:112, 9:14, 10:17, 11:24}\n",
    "\n",
    "lista = calculos(lista1, diccionario)\n",
    "\n",
    "print(lista)"
   ]
  },
  {
   "cell_type": "markdown",
   "id": "6a4c2dd3",
   "metadata": {},
   "source": [
    "## Parte1.B\n",
    "Usando las bibliotecas vistas en clase calcular para la lista y para los valores del diccionario: la media, la\n",
    "desviación estándard y la mediana (investigar como se calcula)"
   ]
  },
  {
   "cell_type": "code",
   "execution_count": 11,
   "id": "7624e271",
   "metadata": {},
   "outputs": [
    {
     "name": "stdout",
     "output_type": "stream",
     "text": [
      "\n",
      "Los valores estadisticos de la lista1 son: \n",
      "\t Media:  84.58333333333333 \n",
      "\t Desviación estandar:  130.9042005522444 \n",
      "\t Mediana:  38.5 \n",
      "\n",
      "Los valores estadisticos del diccionario son: \n",
      "\t Media:  138.5 \n",
      "\t Desviación estandar:  193.82831750460682 \n",
      "\t Mediana:  83.5\n"
     ]
    }
   ],
   "source": [
    "# TAREA#3 - ROYER MÉNDEZ RAMÍREZ\n",
    "# EJERCICIO#1. PARTE B\n",
    "\n",
    "import numpy as np\n",
    "\n",
    "lista1 = [13, 2, 104, 36, 9, 120, 29, 500, 89, 41, 65, 7]\n",
    "lista1.sort()   #Se ordena la lista en orden ascendente de sus elementos\n",
    "\n",
    "\n",
    "diccionario = {0:20, 1:320, 2:90, 3:147, 4:122, 5:717, 6:2, 7:77, 8:112, 9:14, 10:17, 11:24}\n",
    "\n",
    "valores_diccionario = [] #Decidí crear una lista con los valores del diccionario\n",
    "\n",
    "for valor in diccionario.values():\n",
    "    valores_diccionario.append(valor)\n",
    "    \n",
    "valores_diccionario.sort()  #Se ordena en orden ascendente de sus elementos\n",
    "\n",
    "\n",
    "def calculos_estadisticos (lista1, valores_diccionario):\n",
    "\n",
    "    #Media y desviacion estandar para la lista y el diccionario, respectivamente\n",
    "    media_lista = np.mean(lista1)\n",
    "    desviacion_estandar_lista = np.std(lista1)\n",
    "    media_diccionario = np.mean(valores_diccionario)\n",
    "    desviacion_estandar_diccionario = np.std(valores_diccionario)\n",
    "    \n",
    "\n",
    "    ###CALCULOS PARA OBTENER LA MEDIANA DE LA LISTA MANUALMENTE###\n",
    "    contador = 0\n",
    "\n",
    "    for i in range (0, len(lista1)):\n",
    "        contador += 1\n",
    "\n",
    "    numero_total_elementos = contador  #son 12 elementos\n",
    "\n",
    "    elemento_izq = (numero_total_elementos/2)-1 #elemento 05 de la lista\n",
    "    elemento_der = (numero_total_elementos/2) #elemento 06 de la lista\n",
    "\n",
    "    valor_izq = lista1[int(elemento_izq)]   #El valor que esta contenido en el elemento 05 de la lista (36)\n",
    "    valor_der = lista1[int(elemento_der)]   #El valor que esta contenido en el elemento 06 de la lista (41)\n",
    "\n",
    "    mediana_lista = (valor_izq + valor_der)/2\n",
    "    \n",
    "    \n",
    "    ###CALCULOS PARA OBTENER LA MEDIANA DEL DICCIONARIO MANUALMENTE###\n",
    "    contador = 0\n",
    "\n",
    "    for i in range (0, len(valores_diccionario)):\n",
    "        contador += 1\n",
    "\n",
    "    numero_total_elementos = contador  #son 12 elementos\n",
    "\n",
    "    elemento_izq = (numero_total_elementos/2)-1 #elemento 05 de la lista\n",
    "    elemento_der = (numero_total_elementos/2) #elemento 06 de la lista\n",
    "\n",
    "    valor_izq = valores_diccionario[int(elemento_izq)]   #El valor que esta contenido en el elemento 05 de la lista (77)\n",
    "    valor_der = valores_diccionario[int(elemento_der)]   #El valor que esta contenido en el elemento 06 de la lista (90)\n",
    "\n",
    "    mediana_diccionario = (valor_izq + valor_der)/2\n",
    "\n",
    "    return media_lista, desviacion_estandar_lista, mediana_lista, media_diccionario, desviacion_estandar_diccionario, mediana_diccionario\n",
    "\n",
    "\n",
    "    #Llamado a la funcion\n",
    "\n",
    "valores_estadisticos = calculos_estadisticos(lista1, valores_diccionario)\n",
    "\n",
    "print(\"\\nLos valores estadisticos de la lista1 son: \\n\\t Media: \",valores_estadisticos[0], \"\\n\\t Desviación estandar: \",valores_estadisticos[1], \"\\n\\t Mediana: \",valores_estadisticos[2], \"\\n\\nLos valores estadisticos del diccionario son: \\n\\t Media: \",valores_estadisticos[3], \"\\n\\t Desviación estandar: \",valores_estadisticos[4], \"\\n\\t Mediana: \",valores_estadisticos[5])\n",
    "\n",
    "\n",
    "\n",
    "###MANERA FACIL PARA OBTENER LA MEDIANA DE LA LISTA1 Y DE LOS VALORES DEL DICCIONARIO###\n",
    "\n",
    "mediana_lista_prueba = np.median(lista1)\n",
    "mediana_diccionario_prueba = np.median(valores_diccionario)\n",
    "\n",
    "#print(mediana_lista_prueba, mediana_diccionario_prueba)  #son los mismos valores de arriba"
   ]
  },
  {
   "cell_type": "markdown",
   "id": "de277ec1",
   "metadata": {},
   "source": [
    "## Parte1.C\n",
    "\n",
    "Haga una copia de la lista y una copia del diccionario y hacer una función en Python que tome los llaves\n",
    "del diccionario y los valores en la lista y devuelver un diccionario."
   ]
  },
  {
   "cell_type": "code",
   "execution_count": 12,
   "id": "e2793b77",
   "metadata": {},
   "outputs": [
    {
     "name": "stdout",
     "output_type": "stream",
     "text": [
      "{0: 13, 1: 2, 2: 104, 3: 36, 4: 9, 5: 120, 6: 29, 7: 500, 8: 89, 9: 41, 10: 65, 11: 7}\n"
     ]
    }
   ],
   "source": [
    "# TAREA#3 - ROYER MÉNDEZ RAMÍREZ\n",
    "# EJERCICIO#1. PARTE C\n",
    "\n",
    "lista1 = [13, 2, 104, 36, 9, 120, 29, 500, 89, 41, 65, 7]\n",
    "diccionario = {0:20, 1:320, 2:90, 3:147, 4:122, 5:717, 6:2, 7:77, 8:112, 9:14, 10:17, 11:24}\n",
    "\n",
    "lista1_copia = lista1 [:] #Se hace una copia de la lista\n",
    "diccionario_copia = diccionario.copy() #Se hace una copia del diccionario\n",
    "\n",
    "\n",
    "#Se crea la funcion para el nuevo diccionario\n",
    "def diccionario_nuevo(diccionario_copia, lista1_copia):\n",
    "    \n",
    "    nuevo_diccionario = dict(zip(diccionario_copia, lista1_copia)) #Se unen los elementos de la lista y de las llaves del diccionario\n",
    "    \n",
    "    return nuevo_diccionario\n",
    "\n",
    "\n",
    "#Llamado a la funcion\n",
    "\n",
    "diccionario_nuevo = diccionario_nuevo(diccionario_copia.keys(), lista1_copia)\n",
    "\n",
    "print(diccionario_nuevo)"
   ]
  },
  {
   "cell_type": "markdown",
   "id": "c9d3916b",
   "metadata": {},
   "source": [
    "# Ejercicio #2"
   ]
  },
  {
   "cell_type": "markdown",
   "id": "aae13f80",
   "metadata": {},
   "source": [
    "## Parte a:\n",
    "Construir una tabla con pandas a partir del siguiente diccionario. La construcción debe contener un\n",
    "índice de tipo string, provisto por el estudiante. ej. “est1”, “est2”, …"
   ]
  },
  {
   "cell_type": "code",
   "execution_count": 13,
   "id": "b52ca6bb",
   "metadata": {},
   "outputs": [],
   "source": [
    "from audioop import reverse #Se va a necesitar en la parte 2d\n",
    "import pandas as pd\n",
    "from numpy import mean, std\n",
    "\n",
    "datos = {'Nombre': [\"Marco\", \"Francisco\", \"Roberto\", \"Mariel\", \"Sonia\", \"John\", \"Charles\"],\n",
    "         'Carrera':[\"Ing. Eléctrica\", \"Educación Física\", \"Matemáticas\", \"Ing. Mecánica\", \"Derecho\", \"Idiomas\", \"Ing. Civil\"],\n",
    "         'Edad':[\"21\", \"20\", \"19\", \"29\", \"22\", \"21\", \"22\"]}\n",
    "\n",
    "#Parte 2.A -- Agregar los indices a la Tabla de Datos\n",
    "tabla = pd.DataFrame(datos, index = [\"Est 1\", \"Est 2\", \"Est 3\", \"Est 4\", \"Est 5\", \"Est 6\", \"Est 7\"])"
   ]
  },
  {
   "cell_type": "markdown",
   "id": "6f9d3b22",
   "metadata": {},
   "source": [
    "## Parte b:\n",
    "Imprimir la tabla convertida con Pandas a consola."
   ]
  },
  {
   "cell_type": "code",
   "execution_count": 14,
   "id": "a0baebc4",
   "metadata": {},
   "outputs": [
    {
     "name": "stdout",
     "output_type": "stream",
     "text": [
      "          Nombre           Carrera Edad\n",
      "Est 1      Marco    Ing. Eléctrica   21\n",
      "Est 2  Francisco  Educación Física   20\n",
      "Est 3    Roberto       Matemáticas   19\n",
      "Est 4     Mariel     Ing. Mecánica   29\n",
      "Est 5      Sonia           Derecho   22\n",
      "Est 6       John           Idiomas   21\n",
      "Est 7    Charles        Ing. Civil   22\n"
     ]
    }
   ],
   "source": [
    "#Parte 2.B -- Imprimir la Tabla de Datos\n",
    "\n",
    "print (tabla)"
   ]
  },
  {
   "cell_type": "markdown",
   "id": "2916c57a",
   "metadata": {},
   "source": [
    "## Parte c:\n",
    "Ordenar la tabla por nombre (ascendente)"
   ]
  },
  {
   "cell_type": "code",
   "execution_count": 15,
   "id": "9651ed1d",
   "metadata": {},
   "outputs": [
    {
     "name": "stdout",
     "output_type": "stream",
     "text": [
      "          Nombre           Carrera Edad\n",
      "Est 7    Charles        Ing. Civil   22\n",
      "Est 2  Francisco  Educación Física   20\n",
      "Est 6       John           Idiomas   21\n",
      "Est 1      Marco    Ing. Eléctrica   21\n",
      "Est 4     Mariel     Ing. Mecánica   29\n",
      "Est 3    Roberto       Matemáticas   19\n",
      "Est 5      Sonia           Derecho   22\n"
     ]
    }
   ],
   "source": [
    "#Parte 2.C -- Imprimir por \"Nombre\" ascendente\n",
    "tabla.sort_values(by=['Nombre'])\n",
    "print (tabla.sort_values(by=['Nombre']))"
   ]
  },
  {
   "cell_type": "markdown",
   "id": "ba998b03",
   "metadata": {},
   "source": [
    "## Parte d:\n",
    "Ordenar la tabla por ciudad (desdendente)"
   ]
  },
  {
   "cell_type": "code",
   "execution_count": 16,
   "id": "bf821436",
   "metadata": {},
   "outputs": [
    {
     "name": "stdout",
     "output_type": "stream",
     "text": [
      "          Nombre           Carrera Edad\n",
      "Est 3    Roberto       Matemáticas   19\n",
      "Est 4     Mariel     Ing. Mecánica   29\n",
      "Est 1      Marco    Ing. Eléctrica   21\n",
      "Est 7    Charles        Ing. Civil   22\n",
      "Est 6       John           Idiomas   21\n",
      "Est 2  Francisco  Educación Física   20\n",
      "Est 5      Sonia           Derecho   22\n"
     ]
    }
   ],
   "source": [
    "#Parte 2.D -- Imprimir por \"Carrera\" descendente\n",
    "tabla.sort_values(by=['Carrera'], ascending=False)\n",
    "print (tabla.sort_values(by=['Carrera'], ascending=False))"
   ]
  },
  {
   "cell_type": "markdown",
   "id": "56071818",
   "metadata": {},
   "source": [
    "## Parte e:\n",
    "Deben hacer la visualización usando el índice binario de los cuatro primeros estudiantes."
   ]
  },
  {
   "cell_type": "code",
   "execution_count": 17,
   "id": "e24dc6df",
   "metadata": {},
   "outputs": [
    {
     "name": "stdout",
     "output_type": "stream",
     "text": [
      "          Nombre           Carrera Edad\n",
      "Est 1      Marco    Ing. Eléctrica   21\n",
      "Est 2  Francisco  Educación Física   20\n",
      "Est 3    Roberto       Matemáticas   19\n",
      "Est 4     Mariel     Ing. Mecánica   29\n"
     ]
    }
   ],
   "source": [
    "#Parte 2.E -- Visualizacion por medio de indice binario (iloc) de los 4 primeros estudiantes\n",
    "\n",
    "print(tabla.iloc[0:4,:])"
   ]
  },
  {
   "cell_type": "markdown",
   "id": "98493e4e",
   "metadata": {},
   "source": [
    "## Parte f:\n",
    "Deben hacer la visualización usando el índice textual de los estudiantes a partir de la segunda entrada."
   ]
  },
  {
   "cell_type": "code",
   "execution_count": 18,
   "id": "eedb7fd0",
   "metadata": {},
   "outputs": [
    {
     "name": "stdout",
     "output_type": "stream",
     "text": [
      "          Nombre           Carrera Edad\n",
      "Est 2  Francisco  Educación Física   20\n",
      "Est 3    Roberto       Matemáticas   19\n",
      "Est 4     Mariel     Ing. Mecánica   29\n",
      "Est 5      Sonia           Derecho   22\n",
      "Est 6       John           Idiomas   21\n",
      "Est 7    Charles        Ing. Civil   22\n"
     ]
    }
   ],
   "source": [
    "#Parte 2.F -- Visualizacion por medio de indice textual (loc) de estudiantes a partir de la 2da entrada\n",
    "\n",
    "print(tabla.loc['Est 2':,:])"
   ]
  },
  {
   "cell_type": "markdown",
   "id": "780a7954",
   "metadata": {},
   "source": [
    "## Parte g:\n",
    "Deben mostrar para los estudiantes de las posiciones binarias 3,4,5 de los datos de carrera y edad\n",
    "únicamente."
   ]
  },
  {
   "cell_type": "code",
   "execution_count": 19,
   "id": "1d9892ac",
   "metadata": {},
   "outputs": [
    {
     "name": "stdout",
     "output_type": "stream",
     "text": [
      "             Carrera Edad\n",
      "Est 4  Ing. Mecánica   29\n",
      "Est 5        Derecho   22\n",
      "Est 6        Idiomas   21\n"
     ]
    }
   ],
   "source": [
    "#Parte 2.G -- Para estudiantes de las posiciones binarias 3,4,5 mostrar datos de carrera y edad\n",
    "\n",
    "print(tabla.iloc[3:6,1:3])"
   ]
  },
  {
   "cell_type": "markdown",
   "id": "cb4ce235",
   "metadata": {},
   "source": [
    "## Parte h:\n",
    "Investigar la manera de convertir una tabla Pandas en un archivo Excel y hacer la exportación de esta\n",
    "tabla a Excel."
   ]
  },
  {
   "cell_type": "code",
   "execution_count": 20,
   "id": "516fa3d9",
   "metadata": {},
   "outputs": [],
   "source": [
    "#Parte 2.H -- Convertir y exportar la tabla a un archivo excel.\n",
    "\n",
    "tabla.to_excel('Tabla_Estudiantes.xlsx')"
   ]
  },
  {
   "cell_type": "markdown",
   "id": "22bf0ad2",
   "metadata": {},
   "source": [
    "# Ejercicio #3"
   ]
  },
  {
   "cell_type": "code",
   "execution_count": 3,
   "id": "6e144afd",
   "metadata": {},
   "outputs": [],
   "source": [
    "import numpy as np\n",
    "import pandas as pd\n",
    "import matplotlib.pyplot as plt"
   ]
  },
  {
   "cell_type": "markdown",
   "id": "49fbe782",
   "metadata": {},
   "source": [
    "## Parte a\n",
    "\n",
    "Hacer una función CargarArchivo que permite cargar el archivo con pandas y leerlo a memoria. El\n",
    "resultado debe devolverlo a la variable analítica."
   ]
  },
  {
   "cell_type": "code",
   "execution_count": 6,
   "id": "0380755c",
   "metadata": {},
   "outputs": [],
   "source": [
    "archivo = 'time_series_covid19_confirmed_ready.csv'\n",
    "\n",
    "#Se crea la funcion\n",
    "def CargarArchivo(archivo):\n",
    "    \n",
    "    variable = pd.read_csv(archivo)\n",
    "            \n",
    "    return variable\n",
    "    \n",
    "    \n",
    "#Llamado a la funcion\n",
    "\n",
    "datos = CargarArchivo(archivo)"
   ]
  },
  {
   "cell_type": "markdown",
   "id": "6026cd6b",
   "metadata": {},
   "source": [
    "## Parte b\n",
    "\n",
    "Estudiar como se convierte la columna fecha en index y hacer una función ChangeIndex() que\n",
    "realice esta operación."
   ]
  },
  {
   "cell_type": "code",
   "execution_count": 7,
   "id": "8b4a4251",
   "metadata": {},
   "outputs": [
    {
     "name": "stdout",
     "output_type": "stream",
     "text": [
      "            Afghanistan  Albania  Algeria  Andorra  Angola  \\\n",
      "fechas                                                       \n",
      "2020-01-23            0        0        0        0       0   \n",
      "2020-01-24            0        0        0        0       0   \n",
      "2020-01-25            0        0        0        0       0   \n",
      "2020-01-26            0        0        0        0       0   \n",
      "2020-01-27            0        0        0        0       0   \n",
      "...                 ...      ...      ...      ...     ...   \n",
      "2021-02-25           16      986      161       24      55   \n",
      "2021-02-26           16      916      183       23      64   \n",
      "2021-02-27           11      986      155       27      23   \n",
      "2021-02-28            7      952      132       17      25   \n",
      "2021-03-01           19      764      163       23      47   \n",
      "\n",
      "            Antigua.and.Barbuda  Argentina  Armenia  Australia  Austria  ...  \\\n",
      "fechas                                                                   ...   \n",
      "2020-01-23                    0          0        0          0        0  ...   \n",
      "2020-01-24                    0          0        0          0        0  ...   \n",
      "2020-01-25                    0          0        0          0        0  ...   \n",
      "2020-01-26                    0          0        0          4        0  ...   \n",
      "2020-01-27                    0          0        0          1        0  ...   \n",
      "...                         ...        ...      ...        ...      ...  ...   \n",
      "2021-02-25                   55       8234      282         10     2391  ...   \n",
      "2021-02-26                    0       5083      283          8     2093  ...   \n",
      "2021-02-27                   25       5469      283          5     2457  ...   \n",
      "2021-02-28                    4       3168      265          8     2123  ...   \n",
      "2021-03-01                   39       4658      158          8     1409  ...   \n",
      "\n",
      "            Uruguay     US  Uzbekistan  Vanuatu  Venezuela  Vietnam  \\\n",
      "fechas                                                                \n",
      "2020-01-23        0      0           0        0          0        2   \n",
      "2020-01-24        0      1           0        0          0        0   \n",
      "2020-01-25        0      0           0        0          0        0   \n",
      "2020-01-26        0      3           0        0          0        0   \n",
      "2020-01-27        0      0           0        0          0        0   \n",
      "...             ...    ...         ...      ...        ...      ...   \n",
      "2021-02-25      821  77291          24        0        426        9   \n",
      "2021-02-26      847  76791          31        0        424        5   \n",
      "2021-02-27      820  64286          32        0        444        6   \n",
      "2021-02-28      632  51204          90        0        377       16   \n",
      "2021-03-01      595  58812           0        0        429        0   \n",
      "\n",
      "            West.Bank.and.Gaza  Yemen  Zambia  Zimbabwe  \n",
      "fechas                                                   \n",
      "2020-01-23                   0      0       0         0  \n",
      "2020-01-24                   0      0       0         0  \n",
      "2020-01-25                   0      0       0         0  \n",
      "2020-01-26                   0      0       0         0  \n",
      "2020-01-27                   0      0       0         0  \n",
      "...                        ...    ...     ...       ...  \n",
      "2021-02-25                1525     34     687        34  \n",
      "2021-02-26                1555     12     468        50  \n",
      "2021-02-27                1061      2     563        14  \n",
      "2021-02-28                1703     16     332        31  \n",
      "2021-03-01                1724     25     468        26  \n",
      "\n",
      "[404 rows x 192 columns]\n"
     ]
    },
    {
     "data": {
      "text/plain": [
       "Afghanistan           int64\n",
       "Albania               int64\n",
       "Algeria               int64\n",
       "Andorra               int64\n",
       "Angola                int64\n",
       "                      ...  \n",
       "Vietnam               int64\n",
       "West.Bank.and.Gaza    int64\n",
       "Yemen                 int64\n",
       "Zambia                int64\n",
       "Zimbabwe              int64\n",
       "Length: 192, dtype: object"
      ]
     },
     "execution_count": 7,
     "metadata": {},
     "output_type": "execute_result"
    }
   ],
   "source": [
    "datos['fechas'] = pd.to_datetime(datos['fechas'], format='%Y/%m/%d')\n",
    "datos.dtypes\n",
    "\n",
    "def ChangeIndex(datos):\n",
    "    \n",
    "    nueva_tabla = datos.set_index('fechas')\n",
    "\n",
    "    return nueva_tabla\n",
    "\n",
    "#Se realiza el llamado a la función\n",
    "datos2 = ChangeIndex(datos)\n",
    "print(datos2)\n",
    "datos2.dtypes"
   ]
  },
  {
   "cell_type": "markdown",
   "id": "043a681f",
   "metadata": {},
   "source": [
    "## Parte c\n",
    "\n",
    "Del pandas resultante tomar las columnas para los países:Panama, Uruguay, Costa Rica y\n",
    "España. Y presentar usando los operadores vistos en clase; los datos de estos países para la fechas del\n",
    "01/09/2020 al 25/09/2020"
   ]
  },
  {
   "cell_type": "code",
   "execution_count": 12,
   "id": "7a054417",
   "metadata": {},
   "outputs": [
    {
     "name": "stdout",
     "output_type": "stream",
     "text": [
      "            Panama  Uruguay  Costa.Rica\n",
      "fechas                                 \n",
      "2020-09-01     570       16         897\n",
      "2020-09-02     532       15        1121\n",
      "2020-09-03     830       10        1153\n",
      "2020-09-04     682       17        1222\n",
      "2020-09-05     709       16        1240\n",
      "2020-09-06     738       10           0\n",
      "2020-09-07     535       14        1860\n",
      "2020-09-08     829       19        1117\n",
      "2020-09-09     635       29        1327\n",
      "2020-09-10     673       18        1325\n",
      "2020-09-11     615       14        1420\n",
      "2020-09-12     711        7        1485\n",
      "2020-09-13     704       28           0\n",
      "2020-09-14     459        4        1907\n",
      "2020-09-15     628       15         776\n",
      "2020-09-16     634       29        1379\n",
      "2020-09-17     672       20        1302\n",
      "2020-09-18     741       14        1556\n",
      "2020-09-19     722       14        1338\n",
      "2020-09-20     602       13           0\n",
      "2020-09-21     607       10        1890\n",
      "2020-09-22     474        7        1087\n",
      "2020-09-23     706       12        1370\n",
      "2020-09-24     736       13        1400\n",
      "2020-09-25     705        8        1357\n"
     ]
    }
   ],
   "source": [
    "print(datos2.loc['2020-09-01':'2020-09-25',['Panama', 'Uruguay', 'Costa.Rica']])"
   ]
  },
  {
   "cell_type": "markdown",
   "id": "be22f500",
   "metadata": {},
   "source": [
    "## Parte d\n",
    "\n",
    "Hacer un gráﬁco usando un trazo continuo, que muestre los valores de Costa Rica en todo el\n",
    "periodo de la pandemia."
   ]
  },
  {
   "cell_type": "code",
   "execution_count": 9,
   "id": "2a69bd84",
   "metadata": {},
   "outputs": [
    {
     "data": {
      "image/png": "[encoded data removed]",
      "text/plain": [
       "<Figure size 640x480 with 1 Axes>"
      ]
     },
     "metadata": {},
     "output_type": "display_data"
    }
   ],
   "source": [
    "plt.plot(datos['Costa.Rica'], label=\"Costa Rica\")\n",
    "plt.legend(loc=\"upper left\")\n",
    "plt.xlabel('# de Día')\n",
    "plt.ylabel('Cantidad de casos')\n",
    "plt.show()"
   ]
  },
  {
   "cell_type": "markdown",
   "id": "bf50baac",
   "metadata": {},
   "source": [
    "## Parte e\n",
    "\n",
    "hacer un gráﬁco usando un trazo continuo con pentágonos, que muestre los valores de España,\n",
    "Italia y Francia en el período fechas indicado. La selección debe ser con ‘iloc’. El trazo y los pentágonos\n",
    "en colores diferentes, además debe aportar una leyenda que no interﬁera con los gráﬁcos."
   ]
  },
  {
   "cell_type": "code",
   "execution_count": 13,
   "id": "87b79dce",
   "metadata": {},
   "outputs": [
    {
     "data": {
      "image/png": "[encoded data removed]",
      "text/plain": [
       "<Figure size 640x480 with 1 Axes>"
      ]
     },
     "metadata": {},
     "output_type": "display_data"
    }
   ],
   "source": [
    "datos2.iloc[222:247,[162,85,62]] #Se efectua la seleccion de las celdas solicitadas en el enunciado\n",
    "datos3 = datos2.iloc[222:247,[162,85,62]] # Este DF contiene los paises España, Italia y Francia\n",
    "plt.plot(datos3['Spain'], '-p', color='blue', label='España')\n",
    "plt.plot(datos3['Italy'], '-p', color='gray', label='Italia')\n",
    "plt.plot(datos3['France'], '-p', color='orange', label='Francia')\n",
    "plt.legend(loc=\"upper left\")\n",
    "plt.xlabel('Fecha')\n",
    "plt.ylabel('Cantidad de casos')\n",
    "plt.show()"
   ]
  },
  {
   "cell_type": "code",
   "execution_count": null,
   "id": "a10831ef",
   "metadata": {},
   "outputs": [],
   "source": []
  }
 ],
 "metadata": {
  "kernelspec": {
   "display_name": "Python 3 (ipykernel)",
   "language": "python",
   "name": "python3"
  },
  "language_info": {
   "codemirror_mode": {
    "name": "ipython",
    "version": 3
   },
   "file_extension": ".py",
   "mimetype": "text/x-python",
   "name": "python",
   "nbconvert_exporter": "python",
   "pygments_lexer": "ipython3",
   "version": "3.9.13"
  }
 },
 "nbformat": 4,
 "nbformat_minor": 5
}
