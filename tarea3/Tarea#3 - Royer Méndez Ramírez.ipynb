{
 "cells": [
  {
   "cell_type": "markdown",
   "id": "3f0aafe1",
   "metadata": {},
   "source": [
    "# Estructuras de datos Abstractas y Algoritmos\\\n",
    "# Tarea# 3\n",
    "# Royer Méndez Ramírez - A43333"
   ]
  },
  {
   "cell_type": "markdown",
   "id": "1cfc0806",
   "metadata": {},
   "source": [
    "## Ejercicio #1 - Parte1"
   ]
  },
  {
   "cell_type": "markdown",
   "id": "e0be5c03",
   "metadata": {},
   "source": [
    "Dado lista1 = [13,2,104,36,9,120,29,500,89,41,65,7]\\\n",
    "diccionario = {0:20,1:320,2:90,3:147,4:122,5:717,6:2,7:77,8:112,9:14,10:17,11:24}"
   ]
  },
  {
   "cell_type": "code",
   "execution_count": 1,
   "id": "b0111cab",
   "metadata": {},
   "outputs": [
    {
     "name": "stdout",
     "output_type": "stream",
     "text": [
      "[2, 2, 7, 9, 13, 14, 17, 20, 24, 29, 36, 41, 65, 77, 89, 90, 104, 112, 120, 122, 147, 320, 500, 717]\n"
     ]
    }
   ],
   "source": [
    "#Función\n",
    "def calculos(lista1, diccionario):\n",
    "\n",
    "\n",
    "    \n",
    "    lista_de_salida = []\n",
    "    \n",
    "    for elemento in (lista1):\n",
    "        lista_de_salida.append(elemento)\n",
    "        \n",
    "    for value in diccionario.values():\n",
    "            lista_de_salida.append(value)\n",
    "    \n",
    "    lista_de_salida.sort()\n",
    "    \n",
    "    return lista_de_salida\n",
    "\n",
    "\n",
    "#El llamado a la funcion\n",
    "\n",
    "lista1 = [13, 2, 104, 36, 9, 120, 29, 500, 89, 41, 65, 7]\n",
    "diccionario = {0:20, 1:320, 2:90, 3:147, 4:122, 5:717, 6:2, 7:77, 8:112, 9:14, 10:17, 11:24}\n",
    "\n",
    "lista = calculos(lista1, diccionario)\n",
    "\n",
    "print(lista)"
   ]
  },
  {
   "cell_type": "code",
   "execution_count": 27,
   "id": "7624e271",
   "metadata": {},
   "outputs": [
    {
     "name": "stdout",
     "output_type": "stream",
     "text": [
      "La media de la lista es:  (84.58333333333333, 130.9042005522444)\n"
     ]
    }
   ],
   "source": [
    "# TAREA#3 - ROYER MÉNDEZ RAMÍREZ\n",
    "# EJERCICIO#1. PARTE A\n",
    "\n",
    "import numpy as np\n",
    "\n",
    "lista1 = [13, 2, 104, 36, 9, 120, 29, 500, 89, 41, 65, 7]\n",
    "#diccionario = {0:20, 1:320, 2:90, 3:147, 4:122, 5:717, 6:2, 7:77, 8:112, 9:14, 10:17, 11:24}\n",
    "\n",
    "def calculos_estadisticos(lista1):\n",
    "    \n",
    "    media = np.mean(lista1)\n",
    "    \n",
    "    desv_std = np.std(lista1)\n",
    "    \n",
    "    mediana = for i in range (0, len(lista1+1)):\n",
    "        \n",
    "    \n",
    "    return media, desv_std\n",
    "\n",
    "#Llamado a la funcion\n",
    "\n",
    "calculos_estadisticos = calculos_estadisticos(lista1)\n",
    "\n",
    "print(\"La media de la lista es: \", calculos_estadisticos)"
   ]
  },
  {
   "cell_type": "code",
   "execution_count": null,
   "id": "e0e4c8c8",
   "metadata": {},
   "outputs": [],
   "source": []
  }
 ],
 "metadata": {
  "kernelspec": {
   "display_name": "Python 3.11.0 64-bit",
   "language": "python",
   "name": "python3"
  },
  "language_info": {
   "codemirror_mode": {
    "name": "ipython",
    "version": 3
   },
   "file_extension": ".py",
   "mimetype": "text/x-python",
   "name": "python",
   "nbconvert_exporter": "python",
   "pygments_lexer": "ipython3",
   "version": "3.11.0"
  },
  "vscode": {
   "interpreter": {
    "hash": "5238573367df39f7286bb46f9ff5f08f63a01a80960060ce41e3c79b190280fa"
   }
  }
 },
 "nbformat": 4,
 "nbformat_minor": 5
}
